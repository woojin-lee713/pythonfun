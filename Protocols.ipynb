{
 "cells": [
  {
   "cell_type": "code",
   "execution_count": 19,
   "id": "b4392f2d-4d7b-46d2-96cd-0322bf0d9a39",
   "metadata": {},
   "outputs": [],
   "source": [
    "class Animal:\n",
    "    def eat(self):\n",
    "        print(\"I eat\")\n",
    "        return None\n",
    "\n",
    "class Cow(Animal):\n",
    "    def eat(self):\n",
    "        print(\"I eat grass\")\n",
    "        return 2"
   ]
  },
  {
   "cell_type": "code",
   "execution_count": 20,
   "id": "a1460926-08fc-4891-b74b-111d38213651",
   "metadata": {},
   "outputs": [
    {
     "name": "stdout",
     "output_type": "stream",
     "text": [
      "I eat\n"
     ]
    }
   ],
   "source": [
    "a = Animal()\n",
    "a.eat()"
   ]
  },
  {
   "cell_type": "code",
   "execution_count": 21,
   "id": "662a4a44-85c0-4fec-b300-f5237f1ce65b",
   "metadata": {},
   "outputs": [
    {
     "name": "stdout",
     "output_type": "stream",
     "text": [
      "I eat grass\n"
     ]
    },
    {
     "data": {
      "text/plain": [
       "2"
      ]
     },
     "execution_count": 21,
     "metadata": {},
     "output_type": "execute_result"
    }
   ],
   "source": [
    "c = Cow()\n",
    "c.eat()"
   ]
  },
  {
   "cell_type": "code",
   "execution_count": 22,
   "id": "e47e4fd0-70ef-4b89-b18c-434cb91cd9a3",
   "metadata": {},
   "outputs": [],
   "source": [
    "class Tiger(Animal):\n",
    "    def eat(self):\n",
    "        print(\"I eat meat\")\n",
    "        return 4"
   ]
  },
  {
   "cell_type": "code",
   "execution_count": 23,
   "id": "6f7b6b0b-ebc0-4226-893f-656bebc55023",
   "metadata": {},
   "outputs": [
    {
     "name": "stdout",
     "output_type": "stream",
     "text": [
      "I eat meat\n"
     ]
    },
    {
     "data": {
      "text/plain": [
       "4"
      ]
     },
     "execution_count": 23,
     "metadata": {},
     "output_type": "execute_result"
    }
   ],
   "source": [
    "t = Tiger()\n",
    "t.eat()"
   ]
  },
  {
   "cell_type": "code",
   "execution_count": 24,
   "id": "68d939ef-8866-400d-8a4b-958bc672106b",
   "metadata": {},
   "outputs": [
    {
     "name": "stdout",
     "output_type": "stream",
     "text": [
      "I eat meat\n"
     ]
    },
    {
     "data": {
      "text/plain": [
       "4"
      ]
     },
     "execution_count": 24,
     "metadata": {},
     "output_type": "execute_result"
    }
   ],
   "source": [
    "t2 = Tiger()\n",
    "t2.eat()"
   ]
  },
  {
   "cell_type": "code",
   "execution_count": 54,
   "id": "85ab699a-2a83-41e6-ab02-c81abfd51a92",
   "metadata": {},
   "outputs": [],
   "source": [
    "class Zoo:\n",
    "    def __init__(self, list_of_animals):\n",
    "        self.animals = list_of_animals\n",
    "\n",
    "    def __len__(self):\n",
    "        return len(self.animals)\n",
    "\n",
    "    def __getitem__(self, i):\n",
    "        return self.animals[i]"
   ]
  },
  {
   "cell_type": "code",
   "execution_count": 55,
   "id": "80ad96c1-f4e6-4112-9a3f-3788e745443a",
   "metadata": {},
   "outputs": [],
   "source": [
    "zoo = Zoo([c, t])"
   ]
  },
  {
   "cell_type": "code",
   "execution_count": 56,
   "id": "757a004e-69db-4567-ac84-5b8d7cd16f97",
   "metadata": {},
   "outputs": [
    {
     "name": "stdout",
     "output_type": "stream",
     "text": [
      "I eat grass\n",
      "I eat meat\n"
     ]
    }
   ],
   "source": [
    "total_food_eaten = 0\n",
    "\n",
    "for animal in zoo.animals:\n",
    "    total_food_eaten += animal.eat()"
   ]
  },
  {
   "cell_type": "code",
   "execution_count": 57,
   "id": "1aa26d2b-2d9a-47e6-8735-89dd089e0f5a",
   "metadata": {},
   "outputs": [
    {
     "data": {
      "text/plain": [
       "6"
      ]
     },
     "execution_count": 57,
     "metadata": {},
     "output_type": "execute_result"
    }
   ],
   "source": [
    "total_food_eaten"
   ]
  },
  {
   "cell_type": "code",
   "execution_count": 58,
   "id": "efd92aa8-a5f7-4dab-8baa-a4c9b56786e0",
   "metadata": {},
   "outputs": [
    {
     "data": {
      "text/plain": [
       "2"
      ]
     },
     "execution_count": 58,
     "metadata": {},
     "output_type": "execute_result"
    }
   ],
   "source": [
    "len(zoo)"
   ]
  },
  {
   "cell_type": "code",
   "execution_count": 59,
   "id": "85392927-f12c-4170-8049-ba23abaa8ccd",
   "metadata": {},
   "outputs": [
    {
     "name": "stdout",
     "output_type": "stream",
     "text": [
      "<__main__.Cow object at 0x107fe1fa0>\n",
      "<__main__.Tiger object at 0x107fe00e0>\n"
     ]
    }
   ],
   "source": [
    "for animal in zoo:\n",
    "    print(animal)"
   ]
  },
  {
   "cell_type": "code",
   "execution_count": 40,
   "id": "cfab4f8b-56e6-4c11-bd87-7e323e1a6bc5",
   "metadata": {},
   "outputs": [
    {
     "data": {
      "text/plain": [
       "4"
      ]
     },
     "execution_count": 40,
     "metadata": {},
     "output_type": "execute_result"
    }
   ],
   "source": [
    "len([1,2,3,4]) #list"
   ]
  },
  {
   "cell_type": "code",
   "execution_count": 60,
   "id": "0dcdc210-3272-4cb4-b054-c8d149538c1e",
   "metadata": {},
   "outputs": [
    {
     "name": "stdout",
     "output_type": "stream",
     "text": [
      "1\n",
      "2\n",
      "3\n",
      "4\n"
     ]
    }
   ],
   "source": [
    "for item in [1,2,3,4]:\n",
    "    print(item)"
   ]
  },
  {
   "cell_type": "code",
   "execution_count": 41,
   "id": "f6fe6865-1448-4f4b-9cf6-48aa9bf1768f",
   "metadata": {},
   "outputs": [
    {
     "data": {
      "text/plain": [
       "11"
      ]
     },
     "execution_count": 41,
     "metadata": {},
     "output_type": "execute_result"
    }
   ],
   "source": [
    "len(\"hello world\") #string"
   ]
  },
  {
   "cell_type": "code",
   "execution_count": 62,
   "id": "34c2f014-a326-4e30-945f-f72dd0ea81d5",
   "metadata": {},
   "outputs": [
    {
     "name": "stdout",
     "output_type": "stream",
     "text": [
      "h\n",
      "e\n",
      "l\n",
      "l\n",
      "o\n",
      " \n",
      "w\n",
      "o\n",
      "r\n",
      "l\n",
      "d\n"
     ]
    }
   ],
   "source": [
    "for character in (\"hello world\"):\n",
    "    print(character)"
   ]
  },
  {
   "cell_type": "code",
   "execution_count": 46,
   "id": "0c6e70aa-90ce-4839-9b52-70963f49eb67",
   "metadata": {},
   "outputs": [
    {
     "data": {
      "text/plain": [
       "3"
      ]
     },
     "execution_count": 46,
     "metadata": {},
     "output_type": "execute_result"
    }
   ],
   "source": [
    "len({'a': 1, 'b': 2, 'c': 3}) #dictionary"
   ]
  },
  {
   "cell_type": "code",
   "execution_count": 63,
   "id": "1cb50d46-2766-453f-a14f-080466675496",
   "metadata": {},
   "outputs": [
    {
     "name": "stdout",
     "output_type": "stream",
     "text": [
      "a\n",
      "b\n",
      "c\n"
     ]
    }
   ],
   "source": [
    "for key in {'a': 1, 'b': 2, 'c': 3}:\n",
    "    print(key)"
   ]
  },
  {
   "cell_type": "code",
   "execution_count": 47,
   "id": "609ace14-efe4-45da-b95f-91cdbfe20510",
   "metadata": {},
   "outputs": [
    {
     "data": {
      "text/plain": [
       "4"
      ]
     },
     "execution_count": 47,
     "metadata": {},
     "output_type": "execute_result"
    }
   ],
   "source": [
    "len(( 1,2,3,4 )) #tuple"
   ]
  },
  {
   "cell_type": "code",
   "execution_count": 48,
   "id": "fd6ea5a5-0a79-42e9-b5c3-80e303779d14",
   "metadata": {},
   "outputs": [],
   "source": [
    "tup = (1,2,3,4) #tuple"
   ]
  },
  {
   "cell_type": "code",
   "execution_count": 64,
   "id": "994c80fa-a02c-41bd-b24a-dda353fcf6de",
   "metadata": {},
   "outputs": [
    {
     "name": "stdout",
     "output_type": "stream",
     "text": [
      "1\n",
      "2\n",
      "3\n",
      "4\n"
     ]
    }
   ],
   "source": [
    "for member in (1,2,3,4):\n",
    "    print(member)"
   ]
  },
  {
   "cell_type": "code",
   "execution_count": 49,
   "id": "66ba714c-3486-4b41-9fc5-88956d3e2d80",
   "metadata": {},
   "outputs": [
    {
     "data": {
      "text/plain": [
       "3"
      ]
     },
     "execution_count": 49,
     "metadata": {},
     "output_type": "execute_result"
    }
   ],
   "source": [
    "tup[2]"
   ]
  },
  {
   "cell_type": "code",
   "execution_count": 52,
   "id": "19a0b0bd-f94b-4d71-9fd6-9e7371f87e6a",
   "metadata": {},
   "outputs": [],
   "source": [
    "#tup[2] = 99 #error becuase you cannot set or change values in tuples"
   ]
  },
  {
   "cell_type": "code",
   "execution_count": 51,
   "id": "91d7aa9f-e4d2-4d8d-82a9-f3b21097cd37",
   "metadata": {},
   "outputs": [
    {
     "data": {
      "text/plain": [
       "3"
      ]
     },
     "execution_count": 51,
     "metadata": {},
     "output_type": "execute_result"
    }
   ],
   "source": [
    "len({1,3,5,1,3,5}) #set"
   ]
  },
  {
   "cell_type": "code",
   "execution_count": 66,
   "id": "1c09a9d9-de0b-4af3-bf9f-2c48e88f2011",
   "metadata": {},
   "outputs": [
    {
     "name": "stdout",
     "output_type": "stream",
     "text": [
      "1\n",
      "3\n",
      "5\n"
     ]
    }
   ],
   "source": [
    "for element in {1,3,5,1,3,5}:\n",
    "    print(element)"
   ]
  },
  {
   "cell_type": "markdown",
   "id": "5b3b532f-eefd-41f5-b05f-a3f8a0e3b1a0",
   "metadata": {},
   "source": [
    "All of these are following a sequence protocol"
   ]
  },
  {
   "cell_type": "code",
   "execution_count": 99,
   "id": "6fa69f35-9473-46d4-b7f0-f8215734d867",
   "metadata": {},
   "outputs": [],
   "source": [
    "import reprlib\n",
    "\n",
    "class Vector:\n",
    "    def __init__(self, vlist):\n",
    "        self.c = tuple(vlist)\n",
    "\n",
    "    def __repr__(self):\n",
    "        return f\"Vector:{reprlib.repr(self.c)}\"\n",
    "\n",
    "    def __len__(self):\n",
    "        return len(self.c)\n",
    "\n",
    "    def __getitem__(self, i):\n",
    "        return self.c[i]\n",
    "\n",
    "    def __add__(self, otherv):\n",
    "        el = []\n",
    "        for i, e in enumerate(self.c):\n",
    "            el.append(e+otherv[i])\n",
    "        return Vector(el)"
   ]
  },
  {
   "cell_type": "code",
   "execution_count": 100,
   "id": "b66dc989-2017-4c35-bfb5-22c36182e986",
   "metadata": {},
   "outputs": [],
   "source": [
    "v1 = Vector([1,2])\n",
    "v2 = Vector([1,1])"
   ]
  },
  {
   "cell_type": "code",
   "execution_count": 101,
   "id": "3572cc24-11d5-4211-990b-a3cccf9f7831",
   "metadata": {},
   "outputs": [],
   "source": [
    "v3 = v1 + v2"
   ]
  },
  {
   "cell_type": "code",
   "execution_count": 102,
   "id": "44764fa5-7da4-4e1a-80f2-91cf5fb4829c",
   "metadata": {},
   "outputs": [
    {
     "data": {
      "text/plain": [
       "Vector:(2, 3)"
      ]
     },
     "execution_count": 102,
     "metadata": {},
     "output_type": "execute_result"
    }
   ],
   "source": [
    "v3"
   ]
  },
  {
   "cell_type": "code",
   "execution_count": 103,
   "id": "dae476fd-950a-4880-bf53-3e3959396cf6",
   "metadata": {},
   "outputs": [
    {
     "data": {
      "text/plain": [
       "(2, 3)"
      ]
     },
     "execution_count": 103,
     "metadata": {},
     "output_type": "execute_result"
    }
   ],
   "source": [
    "v3.c"
   ]
  },
  {
   "cell_type": "markdown",
   "id": "b30c9137-138c-4331-a982-22820af51c7e",
   "metadata": {},
   "source": [
    "### [1,2] + [3,4]"
   ]
  },
  {
   "cell_type": "code",
   "execution_count": 104,
   "id": "15ed7f14-6d67-48c4-8341-207723657a20",
   "metadata": {},
   "outputs": [
    {
     "data": {
      "text/plain": [
       "(1, 2, 3, 4)"
      ]
     },
     "execution_count": 104,
     "metadata": {},
     "output_type": "execute_result"
    }
   ],
   "source": [
    "(1,2) + (3,4)"
   ]
  },
  {
   "cell_type": "code",
   "execution_count": 105,
   "id": "205bd19d-3122-4974-b282-2f14df60c39b",
   "metadata": {},
   "outputs": [
    {
     "ename": "TypeError",
     "evalue": "unsupported operand type(s) for +: 'set' and 'set'",
     "output_type": "error",
     "traceback": [
      "\u001b[0;31m---------------------------------------------------------------------------\u001b[0m",
      "\u001b[0;31mTypeError\u001b[0m                                 Traceback (most recent call last)",
      "Cell \u001b[0;32mIn[105], line 1\u001b[0m\n\u001b[0;32m----> 1\u001b[0m \u001b[43m{\u001b[49m\u001b[38;5;241;43m1\u001b[39;49m\u001b[43m,\u001b[49m\u001b[38;5;241;43m3\u001b[39;49m\u001b[43m,\u001b[49m\u001b[38;5;241;43m5\u001b[39;49m\u001b[43m,\u001b[49m\u001b[38;5;241;43m1\u001b[39;49m\u001b[43m}\u001b[49m\u001b[43m \u001b[49m\u001b[38;5;241;43m+\u001b[39;49m\u001b[43m \u001b[49m\u001b[43m{\u001b[49m\u001b[38;5;241;43m2\u001b[39;49m\u001b[43m,\u001b[49m\u001b[38;5;241;43m4\u001b[39;49m\u001b[43m}\u001b[49m\n",
      "\u001b[0;31mTypeError\u001b[0m: unsupported operand type(s) for +: 'set' and 'set'"
     ]
    }
   ],
   "source": [
    "{1,3,5,1} + {2,4}"
   ]
  },
  {
   "cell_type": "code",
   "execution_count": null,
   "id": "c54568b8-3b71-4435-98aa-97969bd782bd",
   "metadata": {},
   "outputs": [],
   "source": []
  }
 ],
 "metadata": {
  "kernelspec": {
   "display_name": "Python 3 (ipykernel)",
   "language": "python",
   "name": "python3"
  },
  "language_info": {
   "codemirror_mode": {
    "name": "ipython",
    "version": 3
   },
   "file_extension": ".py",
   "mimetype": "text/x-python",
   "name": "python",
   "nbconvert_exporter": "python",
   "pygments_lexer": "ipython3",
   "version": "3.12.2"
  }
 },
 "nbformat": 4,
 "nbformat_minor": 5
}
