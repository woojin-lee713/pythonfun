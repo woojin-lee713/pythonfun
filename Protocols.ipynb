{
 "cells": [
  {
   "cell_type": "code",
   "execution_count": 19,
   "id": "b4392f2d-4d7b-46d2-96cd-0322bf0d9a39",
   "metadata": {},
   "outputs": [],
   "source": [
    "class Animal:\n",
    "    def eat(self):\n",
    "        print(\"I eat\")\n",
    "        return None\n",
    "\n",
    "class Cow(Animal):\n",
    "    def eat(self):\n",
    "        print(\"I eat grass\")\n",
    "        return 2"
   ]
  },
  {
   "cell_type": "code",
   "execution_count": 20,
   "id": "a1460926-08fc-4891-b74b-111d38213651",
   "metadata": {},
   "outputs": [
    {
     "name": "stdout",
     "output_type": "stream",
     "text": [
      "I eat\n"
     ]
    }
   ],
   "source": [
    "a = Animal()\n",
    "a.eat()"
   ]
  },
  {
   "cell_type": "code",
   "execution_count": 21,
   "id": "662a4a44-85c0-4fec-b300-f5237f1ce65b",
   "metadata": {},
   "outputs": [
    {
     "name": "stdout",
     "output_type": "stream",
     "text": [
      "I eat grass\n"
     ]
    },
    {
     "data": {
      "text/plain": [
       "2"
      ]
     },
     "execution_count": 21,
     "metadata": {},
     "output_type": "execute_result"
    }
   ],
   "source": [
    "c = Cow()\n",
    "c.eat()"
   ]
  },
  {
   "cell_type": "code",
   "execution_count": 22,
   "id": "e47e4fd0-70ef-4b89-b18c-434cb91cd9a3",
   "metadata": {},
   "outputs": [],
   "source": [
    "class Tiger(Animal):\n",
    "    def eat(self):\n",
    "        print(\"I eat meat\")\n",
    "        return 4"
   ]
  },
  {
   "cell_type": "code",
   "execution_count": 23,
   "id": "6f7b6b0b-ebc0-4226-893f-656bebc55023",
   "metadata": {},
   "outputs": [
    {
     "name": "stdout",
     "output_type": "stream",
     "text": [
      "I eat meat\n"
     ]
    },
    {
     "data": {
      "text/plain": [
       "4"
      ]
     },
     "execution_count": 23,
     "metadata": {},
     "output_type": "execute_result"
    }
   ],
   "source": [
    "t = Tiger()\n",
    "t.eat()"
   ]
  },
  {
   "cell_type": "code",
   "execution_count": 24,
   "id": "68d939ef-8866-400d-8a4b-958bc672106b",
   "metadata": {},
   "outputs": [
    {
     "name": "stdout",
     "output_type": "stream",
     "text": [
      "I eat meat\n"
     ]
    },
    {
     "data": {
      "text/plain": [
       "4"
      ]
     },
     "execution_count": 24,
     "metadata": {},
     "output_type": "execute_result"
    }
   ],
   "source": [
    "t2 = Tiger()\n",
    "t2.eat()"
   ]
  },
  {
   "cell_type": "code",
   "execution_count": 54,
   "id": "85ab699a-2a83-41e6-ab02-c81abfd51a92",
   "metadata": {},
   "outputs": [],
   "source": [
    "class Zoo:\n",
    "    def __init__(self, list_of_animals):\n",
    "        self.animals = list_of_animals\n",
    "\n",
    "    def __len__(self):\n",
    "        return len(self.animals)\n",
    "\n",
    "    def __getitem__(self, i):\n",
    "        return self.animals[i]"
   ]
  },
  {
   "cell_type": "code",
   "execution_count": 55,
   "id": "80ad96c1-f4e6-4112-9a3f-3788e745443a",
   "metadata": {},
   "outputs": [],
   "source": [
    "zoo = Zoo([c, t])"
   ]
  },
  {
   "cell_type": "code",
   "execution_count": 56,
   "id": "757a004e-69db-4567-ac84-5b8d7cd16f97",
   "metadata": {},
   "outputs": [
    {
     "name": "stdout",
     "output_type": "stream",
     "text": [
      "I eat grass\n",
      "I eat meat\n"
     ]
    }
   ],
   "source": [
    "total_food_eaten = 0\n",
    "\n",
    "for animal in zoo.animals:\n",
    "    total_food_eaten += animal.eat()"
   ]
  },
  {
   "cell_type": "code",
   "execution_count": 57,
   "id": "1aa26d2b-2d9a-47e6-8735-89dd089e0f5a",
   "metadata": {},
   "outputs": [
    {
     "data": {
      "text/plain": [
       "6"
      ]
     },
     "execution_count": 57,
     "metadata": {},
     "output_type": "execute_result"
    }
   ],
   "source": [
    "total_food_eaten"
   ]
  },
  {
   "cell_type": "code",
   "execution_count": 58,
   "id": "efd92aa8-a5f7-4dab-8baa-a4c9b56786e0",
   "metadata": {},
   "outputs": [
    {
     "data": {
      "text/plain": [
       "2"
      ]
     },
     "execution_count": 58,
     "metadata": {},
     "output_type": "execute_result"
    }
   ],
   "source": [
    "len(zoo)"
   ]
  },
  {
   "cell_type": "code",
   "execution_count": 59,
   "id": "85392927-f12c-4170-8049-ba23abaa8ccd",
   "metadata": {},
   "outputs": [
    {
     "name": "stdout",
     "output_type": "stream",
     "text": [
      "<__main__.Cow object at 0x107fe1fa0>\n",
      "<__main__.Tiger object at 0x107fe00e0>\n"
     ]
    }
   ],
   "source": [
    "for animal in zoo:\n",
    "    print(animal)"
   ]
  },
  {
   "cell_type": "code",
   "execution_count": 40,
   "id": "cfab4f8b-56e6-4c11-bd87-7e323e1a6bc5",
   "metadata": {},
   "outputs": [
    {
     "data": {
      "text/plain": [
       "4"
      ]
     },
     "execution_count": 40,
     "metadata": {},
     "output_type": "execute_result"
    }
   ],
   "source": [
    "len([1,2,3,4]) #list"
   ]
  },
  {
   "cell_type": "code",
   "execution_count": 60,
   "id": "0dcdc210-3272-4cb4-b054-c8d149538c1e",
   "metadata": {},
   "outputs": [
    {
     "name": "stdout",
     "output_type": "stream",
     "text": [
      "1\n",
      "2\n",
      "3\n",
      "4\n"
     ]
    }
   ],
   "source": [
    "for item in [1,2,3,4]:\n",
    "    print(item)"
   ]
  },
  {
   "cell_type": "code",
   "execution_count": 41,
   "id": "f6fe6865-1448-4f4b-9cf6-48aa9bf1768f",
   "metadata": {},
   "outputs": [
    {
     "data": {
      "text/plain": [
       "11"
      ]
     },
     "execution_count": 41,
     "metadata": {},
     "output_type": "execute_result"
    }
   ],
   "source": [
    "len(\"hello world\") #string"
   ]
  },
  {
   "cell_type": "code",
   "execution_count": 62,
   "id": "34c2f014-a326-4e30-945f-f72dd0ea81d5",
   "metadata": {},
   "outputs": [
    {
     "name": "stdout",
     "output_type": "stream",
     "text": [
      "h\n",
      "e\n",
      "l\n",
      "l\n",
      "o\n",
      " \n",
      "w\n",
      "o\n",
      "r\n",
      "l\n",
      "d\n"
     ]
    }
   ],
   "source": [
    "for character in (\"hello world\"):\n",
    "    print(character)"
   ]
  },
  {
   "cell_type": "code",
   "execution_count": 46,
   "id": "0c6e70aa-90ce-4839-9b52-70963f49eb67",
   "metadata": {},
   "outputs": [
    {
     "data": {
      "text/plain": [
       "3"
      ]
     },
     "execution_count": 46,
     "metadata": {},
     "output_type": "execute_result"
    }
   ],
   "source": [
    "len({'a': 1, 'b': 2, 'c': 3}) #dictionary"
   ]
  },
  {
   "cell_type": "code",
   "execution_count": 63,
   "id": "1cb50d46-2766-453f-a14f-080466675496",
   "metadata": {},
   "outputs": [
    {
     "name": "stdout",
     "output_type": "stream",
     "text": [
      "a\n",
      "b\n",
      "c\n"
     ]
    }
   ],
   "source": [
    "for key in {'a': 1, 'b': 2, 'c': 3}:\n",
    "    print(key)"
   ]
  },
  {
   "cell_type": "code",
   "execution_count": 47,
   "id": "609ace14-efe4-45da-b95f-91cdbfe20510",
   "metadata": {},
   "outputs": [
    {
     "data": {
      "text/plain": [
       "4"
      ]
     },
     "execution_count": 47,
     "metadata": {},
     "output_type": "execute_result"
    }
   ],
   "source": [
    "len(( 1,2,3,4 )) #tuple"
   ]
  },
  {
   "cell_type": "code",
   "execution_count": 48,
   "id": "fd6ea5a5-0a79-42e9-b5c3-80e303779d14",
   "metadata": {},
   "outputs": [],
   "source": [
    "tup = (1,2,3,4) #tuple"
   ]
  },
  {
   "cell_type": "code",
   "execution_count": 64,
   "id": "994c80fa-a02c-41bd-b24a-dda353fcf6de",
   "metadata": {},
   "outputs": [
    {
     "name": "stdout",
     "output_type": "stream",
     "text": [
      "1\n",
      "2\n",
      "3\n",
      "4\n"
     ]
    }
   ],
   "source": [
    "for member in (1,2,3,4):\n",
    "    print(member)"
   ]
  },
  {
   "cell_type": "code",
   "execution_count": 49,
   "id": "66ba714c-3486-4b41-9fc5-88956d3e2d80",
   "metadata": {},
   "outputs": [
    {
     "data": {
      "text/plain": [
       "3"
      ]
     },
     "execution_count": 49,
     "metadata": {},
     "output_type": "execute_result"
    }
   ],
   "source": [
    "tup[2]"
   ]
  },
  {
   "cell_type": "code",
   "execution_count": 52,
   "id": "19a0b0bd-f94b-4d71-9fd6-9e7371f87e6a",
   "metadata": {},
   "outputs": [],
   "source": [
    "#tup[2] = 99 #error becuase you cannot set or change values in tuples"
   ]
  },
  {
   "cell_type": "code",
   "execution_count": 51,
   "id": "91d7aa9f-e4d2-4d8d-82a9-f3b21097cd37",
   "metadata": {},
   "outputs": [
    {
     "data": {
      "text/plain": [
       "3"
      ]
     },
     "execution_count": 51,
     "metadata": {},
     "output_type": "execute_result"
    }
   ],
   "source": [
    "len({1,3,5,1,3,5}) #set"
   ]
  },
  {
   "cell_type": "code",
   "execution_count": 66,
   "id": "1c09a9d9-de0b-4af3-bf9f-2c48e88f2011",
   "metadata": {},
   "outputs": [
    {
     "name": "stdout",
     "output_type": "stream",
     "text": [
      "1\n",
      "3\n",
      "5\n"
     ]
    }
   ],
   "source": [
    "for element in {1,3,5,1,3,5}:\n",
    "    print(element)"
   ]
  },
  {
   "cell_type": "markdown",
   "id": "5b3b532f-eefd-41f5-b05f-a3f8a0e3b1a0",
   "metadata": {},
   "source": [
    "All of these are following a sequence protocol"
   ]
  },
  {
   "cell_type": "code",
   "execution_count": 99,
   "id": "6fa69f35-9473-46d4-b7f0-f8215734d867",
   "metadata": {},
   "outputs": [],
   "source": [
    "import reprlib\n",
    "\n",
    "class Vector:\n",
    "    def __init__(self, vlist):\n",
    "        self.c = tuple(vlist)\n",
    "\n",
    "    def __repr__(self):\n",
    "        return f\"Vector:{reprlib.repr(self.c)}\"\n",
    "\n",
    "    def __len__(self):\n",
    "        return len(self.c)\n",
    "\n",
    "    def __getitem__(self, i):\n",
    "        return self.c[i]\n",
    "\n",
    "    def __add__(self, otherv):\n",
    "        el = []\n",
    "        for i, e in enumerate(self.c):\n",
    "            el.append(e+otherv[i])\n",
    "        return Vector(el)"
   ]
  },
  {
   "cell_type": "code",
   "execution_count": 100,
   "id": "b66dc989-2017-4c35-bfb5-22c36182e986",
   "metadata": {},
   "outputs": [],
   "source": [
    "v1 = Vector([1,2])\n",
    "v2 = Vector([1,1])"
   ]
  },
  {
   "cell_type": "code",
   "execution_count": 101,
   "id": "3572cc24-11d5-4211-990b-a3cccf9f7831",
   "metadata": {},
   "outputs": [],
   "source": [
    "v3 = v1 + v2"
   ]
  },
  {
   "cell_type": "code",
   "execution_count": 102,
   "id": "44764fa5-7da4-4e1a-80f2-91cf5fb4829c",
   "metadata": {},
   "outputs": [
    {
     "data": {
      "text/plain": [
       "Vector:(2, 3)"
      ]
     },
     "execution_count": 102,
     "metadata": {},
     "output_type": "execute_result"
    }
   ],
   "source": [
    "v3"
   ]
  },
  {
   "cell_type": "code",
   "execution_count": 103,
   "id": "dae476fd-950a-4880-bf53-3e3959396cf6",
   "metadata": {},
   "outputs": [
    {
     "data": {
      "text/plain": [
       "(2, 3)"
      ]
     },
     "execution_count": 103,
     "metadata": {},
     "output_type": "execute_result"
    }
   ],
   "source": [
    "v3.c"
   ]
  },
  {
   "cell_type": "markdown",
   "id": "b30c9137-138c-4331-a982-22820af51c7e",
   "metadata": {},
   "source": [
    "### [1,2] + [3,4]"
   ]
  },
  {
   "cell_type": "code",
   "execution_count": 104,
   "id": "15ed7f14-6d67-48c4-8341-207723657a20",
   "metadata": {},
   "outputs": [
    {
     "data": {
      "text/plain": [
       "(1, 2, 3, 4)"
      ]
     },
     "execution_count": 104,
     "metadata": {},
     "output_type": "execute_result"
    }
   ],
   "source": [
    "(1,2) + (3,4)"
   ]
  },
  {
   "cell_type": "code",
   "execution_count": 105,
   "id": "205bd19d-3122-4974-b282-2f14df60c39b",
   "metadata": {},
   "outputs": [
    {
     "ename": "TypeError",
     "evalue": "unsupported operand type(s) for +: 'set' and 'set'",
     "output_type": "error",
     "traceback": [
      "\u001b[0;31m---------------------------------------------------------------------------\u001b[0m",
      "\u001b[0;31mTypeError\u001b[0m                                 Traceback (most recent call last)",
      "Cell \u001b[0;32mIn[105], line 1\u001b[0m\n\u001b[0;32m----> 1\u001b[0m \u001b[43m{\u001b[49m\u001b[38;5;241;43m1\u001b[39;49m\u001b[43m,\u001b[49m\u001b[38;5;241;43m3\u001b[39;49m\u001b[43m,\u001b[49m\u001b[38;5;241;43m5\u001b[39;49m\u001b[43m,\u001b[49m\u001b[38;5;241;43m1\u001b[39;49m\u001b[43m}\u001b[49m\u001b[43m \u001b[49m\u001b[38;5;241;43m+\u001b[39;49m\u001b[43m \u001b[49m\u001b[43m{\u001b[49m\u001b[38;5;241;43m2\u001b[39;49m\u001b[43m,\u001b[49m\u001b[38;5;241;43m4\u001b[39;49m\u001b[43m}\u001b[49m\n",
      "\u001b[0;31mTypeError\u001b[0m: unsupported operand type(s) for +: 'set' and 'set'"
     ]
    }
   ],
   "source": [
    "{1,3,5,1} + {2,4}"
   ]
  },
  {
   "cell_type": "code",
   "execution_count": 2,
   "id": "c54568b8-3b71-4435-98aa-97969bd782bd",
   "metadata": {},
   "outputs": [],
   "source": [
    "class A:\n",
    "    RUNNABLE = False\n",
    "\n",
    "    def __init__(self):\n",
    "        self.whoami=\"A\"\n"
   ]
  },
  {
   "cell_type": "code",
   "execution_count": 3,
   "id": "458ad12f-7aef-4f1c-aca2-00f45caef3af",
   "metadata": {},
   "outputs": [],
   "source": [
    "a = A()"
   ]
  },
  {
   "cell_type": "code",
   "execution_count": 4,
   "id": "3f44cc64-0f98-457b-9146-8899ee048848",
   "metadata": {},
   "outputs": [
    {
     "data": {
      "text/plain": [
       "False"
      ]
     },
     "execution_count": 4,
     "metadata": {},
     "output_type": "execute_result"
    }
   ],
   "source": [
    "a.RUNNABLE # class variable can be accessed from an instance"
   ]
  },
  {
   "cell_type": "code",
   "execution_count": 5,
   "id": "3dd43b58-5040-4140-83c2-05d115352c19",
   "metadata": {},
   "outputs": [
    {
     "data": {
      "text/plain": [
       "False"
      ]
     },
     "execution_count": 5,
     "metadata": {},
     "output_type": "execute_result"
    }
   ],
   "source": [
    "A.RUNNABLE"
   ]
  },
  {
   "cell_type": "code",
   "execution_count": 6,
   "id": "af333d43-dd42-4f4e-9d3d-350d2d17b587",
   "metadata": {},
   "outputs": [
    {
     "data": {
      "text/plain": [
       "'A'"
      ]
     },
     "execution_count": 6,
     "metadata": {},
     "output_type": "execute_result"
    }
   ],
   "source": [
    "a.whoami"
   ]
  },
  {
   "cell_type": "code",
   "execution_count": 7,
   "id": "d84f1e4b-6f64-497f-9d48-0e850ce8798e",
   "metadata": {},
   "outputs": [
    {
     "ename": "AttributeError",
     "evalue": "type object 'A' has no attribute 'whoami'",
     "output_type": "error",
     "traceback": [
      "\u001b[0;31m---------------------------------------------------------------------------\u001b[0m",
      "\u001b[0;31mAttributeError\u001b[0m                            Traceback (most recent call last)",
      "Cell \u001b[0;32mIn[7], line 1\u001b[0m\n\u001b[0;32m----> 1\u001b[0m \u001b[43mA\u001b[49m\u001b[38;5;241;43m.\u001b[39;49m\u001b[43mwhoami\u001b[49m\n",
      "\u001b[0;31mAttributeError\u001b[0m: type object 'A' has no attribute 'whoami'"
     ]
    }
   ],
   "source": [
    "A.whoami"
   ]
  },
  {
   "cell_type": "code",
   "execution_count": 28,
   "id": "a5c0e876-1140-4c68-bf52-4bdae09799fb",
   "metadata": {},
   "outputs": [],
   "source": [
    "MAX_B_INSTANCES = 2\n",
    "\n",
    "class B:\n",
    "    RUNNABLE = False\n",
    "    COUNTER = 0\n",
    "\n",
    "    @classmethod\n",
    "    def bmaker(cls, who):\n",
    "        if cls.COUNTER > MAX_B_INSTANCES:\n",
    "            raise ValueError(\"Too many instances of class B\")\n",
    "        else:\n",
    "            b = B()\n",
    "            cls.COUNTER+=1\n",
    "            b.whoami = who\n",
    "            return b\n",
    "\n",
    "    def __init__(self):\n",
    "        self.person = True\n",
    "\n",
    "    def __repr__(self):\n",
    "        return \"Look ma, I am a gorgeous B\"\n",
    "\n",
    "    def set_status(self):\n",
    "        self.runnable = B.RUNNABLE"
   ]
  },
  {
   "cell_type": "code",
   "execution_count": 29,
   "id": "73d6e6bb-6083-46f1-8662-71ce826df1e8",
   "metadata": {},
   "outputs": [],
   "source": [
    "myb = B.bmaker(\"Rahul\")"
   ]
  },
  {
   "cell_type": "code",
   "execution_count": 30,
   "id": "26c9a08b-f82e-434d-99b2-8594a08b47d5",
   "metadata": {},
   "outputs": [
    {
     "data": {
      "text/plain": [
       "__main__.B"
      ]
     },
     "execution_count": 30,
     "metadata": {},
     "output_type": "execute_result"
    }
   ],
   "source": [
    "type(myb)"
   ]
  },
  {
   "cell_type": "code",
   "execution_count": 31,
   "id": "6cb29a62-89ea-4c54-8350-b4a483e282cb",
   "metadata": {},
   "outputs": [
    {
     "data": {
      "text/plain": [
       "Look ma, I am a gorgeous B"
      ]
     },
     "execution_count": 31,
     "metadata": {},
     "output_type": "execute_result"
    }
   ],
   "source": [
    "myb"
   ]
  },
  {
   "cell_type": "code",
   "execution_count": 32,
   "id": "3cdcbaf8-0e33-4735-a960-95c50b210730",
   "metadata": {},
   "outputs": [
    {
     "data": {
      "text/plain": [
       "'Rahul'"
      ]
     },
     "execution_count": 32,
     "metadata": {},
     "output_type": "execute_result"
    }
   ],
   "source": [
    "myb.whoami"
   ]
  },
  {
   "cell_type": "code",
   "execution_count": 33,
   "id": "d4c64b90-e05e-4dfe-ba17-fd40fe5b9f43",
   "metadata": {},
   "outputs": [],
   "source": [
    "myb.set_status()"
   ]
  },
  {
   "cell_type": "code",
   "execution_count": 34,
   "id": "7b5cb583-287c-46ff-9dac-109fdbc57974",
   "metadata": {},
   "outputs": [
    {
     "data": {
      "text/plain": [
       "1"
      ]
     },
     "execution_count": 34,
     "metadata": {},
     "output_type": "execute_result"
    }
   ],
   "source": [
    "myb.COUNTER"
   ]
  },
  {
   "cell_type": "code",
   "execution_count": 35,
   "id": "d47181d9-53ea-4b0a-a9de-58fd1b1378a4",
   "metadata": {},
   "outputs": [],
   "source": [
    "myb2 = B.bmaker(\"ray\")"
   ]
  },
  {
   "cell_type": "code",
   "execution_count": 36,
   "id": "94361073-2076-41f3-b396-c0fe0ea574b5",
   "metadata": {},
   "outputs": [
    {
     "data": {
      "text/plain": [
       "2"
      ]
     },
     "execution_count": 36,
     "metadata": {},
     "output_type": "execute_result"
    }
   ],
   "source": [
    "B.COUNTER"
   ]
  },
  {
   "cell_type": "code",
   "execution_count": null,
   "id": "22879bf6-6aee-4f3c-9c4e-8cf32ef4e174",
   "metadata": {},
   "outputs": [],
   "source": []
  }
 ],
 "metadata": {
  "kernelspec": {
   "display_name": "Python 3 (ipykernel)",
   "language": "python",
   "name": "python3"
  },
  "language_info": {
   "codemirror_mode": {
    "name": "ipython",
    "version": 3
   },
   "file_extension": ".py",
   "mimetype": "text/x-python",
   "name": "python",
   "nbconvert_exporter": "python",
   "pygments_lexer": "ipython3",
   "version": "3.12.2"
  }
 },
 "nbformat": 4,
 "nbformat_minor": 5
}
