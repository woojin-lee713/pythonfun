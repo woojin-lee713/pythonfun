{
 "cells": [
  {
   "cell_type": "code",
   "execution_count": 1,
   "id": "5efb7e5a-dbd1-4c00-85ed-bcff64475373",
   "metadata": {},
   "outputs": [],
   "source": [
    "xvals = [-2.022945287808054, -1.8486091760122103, -1.8476481826866842, -1.7435854332654428,\n",
    "         -1.5282423673888716, -1.3945778557109074, -1.1403979924220742, -0.8009077275459544,\n",
    "         -0.7108560219444477, -0.5638678812593274, -0.43048994749879754, -0.4265240230310121,\n",
    "         -0.23456806947264375, -0.08933017942095312, 0.04091978204507629, 0.5542534388866378,\n",
    "         0.5558786314354511, 0.8006640938973202, 1.2144534202678483, 1.9118026057089639]\n",
    "y = [0, 0, 0, 0, 0, 0, 0, 0, 0, 1, 1, 0, 1, 1, 1, 1, 1, 1, 1, 1]"
   ]
  },
  {
   "cell_type": "code",
   "execution_count": 2,
   "id": "9bb6fbc4-5c9c-4f4c-84ed-d9b307f9823d",
   "metadata": {},
   "outputs": [],
   "source": [
    "import ml"
   ]
  },
  {
   "cell_type": "code",
   "execution_count": 3,
   "id": "767b927f-b862-4763-975a-1547ff9146a9",
   "metadata": {},
   "outputs": [],
   "source": [
    "slope, intercept = ml.fit(xvals, y)"
   ]
  },
  {
   "cell_type": "code",
   "execution_count": 4,
   "id": "f80b0944-b957-44dd-9671-6990b0d522a6",
   "metadata": {},
   "outputs": [],
   "source": [
    "predict_proba = ml.predict_proba_maker(slope, intercept)\n",
    "predict = ml.predict_maker(slope, intercept)"
   ]
  },
  {
   "cell_type": "code",
   "execution_count": 5,
   "id": "8c391179-06a6-4f60-8386-128d5b13b732",
   "metadata": {},
   "outputs": [
    {
     "data": {
      "text/plain": [
       "[4.2384487899544125e-07,\n",
       " 2.3448061801774165e-06,\n",
       " 2.367020582552928e-06,\n",
       " 6.571192923791013e-06,\n",
       " 5.4358541876421125e-05,\n",
       " 0.00020173914933983947,\n",
       " 0.002437575065306435,\n",
       " 0.06397080195941987,\n",
       " 0.14189620473359968,\n",
       " 0.41159487946671264,\n",
       " 0.7213831993772614,\n",
       " 0.7291366897897232,\n",
       " 0.9465322242527417,\n",
       " 0.9865972956193445,\n",
       " 0.9962296985932257,\n",
       " 0.9999754229236333,\n",
       " 0.9999758117230415,\n",
       " 0.9999978096835431,\n",
       " 0.9999999622235002,\n",
       " 0.9999999999596727]"
      ]
     },
     "execution_count": 5,
     "metadata": {},
     "output_type": "execute_result"
    }
   ],
   "source": [
    "predict_proba(xvals)"
   ]
  },
  {
   "cell_type": "code",
   "execution_count": 6,
   "id": "96d5f75e-895a-42a2-9430-4ff791e5b16b",
   "metadata": {},
   "outputs": [
    {
     "data": {
      "text/plain": [
       "[0, 0, 0, 0, 0, 0, 0, 0, 0, 0, 1, 1, 1, 1, 1, 1, 1, 1, 1, 1]"
      ]
     },
     "execution_count": 6,
     "metadata": {},
     "output_type": "execute_result"
    }
   ],
   "source": [
    "predict(xvals)"
   ]
  },
  {
   "cell_type": "code",
   "execution_count": 7,
   "id": "8aa8071d-af01-4a38-bc05-f48c5d690de4",
   "metadata": {},
   "outputs": [
    {
     "data": {
      "text/plain": [
       "[0, 0, 0, 0, 0, 0, 0, 0, 1, 1, 1, 1, 1, 1, 1, 1, 1, 1, 1, 1]"
      ]
     },
     "execution_count": 7,
     "metadata": {},
     "output_type": "execute_result"
    }
   ],
   "source": [
    "predict(xvals, t= 0.1)"
   ]
  },
  {
   "cell_type": "code",
   "execution_count": 8,
   "id": "bf2eb95d-5eb7-41e7-a0c5-a6963b2cc43d",
   "metadata": {},
   "outputs": [],
   "source": [
    "m = ml.model()"
   ]
  },
  {
   "cell_type": "code",
   "execution_count": 9,
   "id": "263573f5-7a8c-4ad6-bcfe-02f4a8392a26",
   "metadata": {},
   "outputs": [],
   "source": [
    "m['fit'](xvals, y)"
   ]
  },
  {
   "cell_type": "code",
   "execution_count": 10,
   "id": "0f09ba0f-4b1f-4fa3-a04d-d8f80813e907",
   "metadata": {},
   "outputs": [
    {
     "data": {
      "text/plain": [
       "[4.2384487899544125e-07,\n",
       " 2.3448061801774165e-06,\n",
       " 2.367020582552928e-06,\n",
       " 6.571192923791013e-06,\n",
       " 5.4358541876421125e-05,\n",
       " 0.00020173914933983947,\n",
       " 0.002437575065306435,\n",
       " 0.06397080195941987,\n",
       " 0.14189620473359968,\n",
       " 0.41159487946671264,\n",
       " 0.7213831993772614,\n",
       " 0.7291366897897232,\n",
       " 0.9465322242527417,\n",
       " 0.9865972956193445,\n",
       " 0.9962296985932257,\n",
       " 0.9999754229236333,\n",
       " 0.9999758117230415,\n",
       " 0.9999978096835431,\n",
       " 0.9999999622235002,\n",
       " 0.9999999999596727]"
      ]
     },
     "execution_count": 10,
     "metadata": {},
     "output_type": "execute_result"
    }
   ],
   "source": [
    "m['predict_proba'](xvals)"
   ]
  },
  {
   "cell_type": "code",
   "execution_count": 11,
   "id": "1fa685e5-26bb-40ab-bd88-f33f7cd7db92",
   "metadata": {},
   "outputs": [
    {
     "data": {
      "text/plain": [
       "[0, 0, 0, 0, 0, 0, 0, 0, 0, 0, 1, 1, 1, 1, 1, 1, 1, 1, 1, 1]"
      ]
     },
     "execution_count": 11,
     "metadata": {},
     "output_type": "execute_result"
    }
   ],
   "source": [
    "m['predict'](xvals)"
   ]
  },
  {
   "cell_type": "code",
   "execution_count": 12,
   "id": "36e45978-2527-4c33-9d0f-b8097a5def6f",
   "metadata": {},
   "outputs": [
    {
     "data": {
      "text/plain": [
       "[0, 0, 0, 0, 0, 0, 0, 0, 1, 1, 1, 1, 1, 1, 1, 1, 1, 1, 1, 1]"
      ]
     },
     "execution_count": 12,
     "metadata": {},
     "output_type": "execute_result"
    }
   ],
   "source": [
    "m['predict'](xvals, 0.1)"
   ]
  },
  {
   "cell_type": "code",
   "execution_count": 13,
   "id": "b148667f-5e25-4968-9c62-e3c504029d0f",
   "metadata": {},
   "outputs": [],
   "source": [
    "mlm = ml.MLModel()"
   ]
  },
  {
   "cell_type": "code",
   "execution_count": 14,
   "id": "26be239f-7744-4ceb-883d-950f70ff8026",
   "metadata": {},
   "outputs": [],
   "source": [
    "mlm.intercept"
   ]
  },
  {
   "cell_type": "code",
   "execution_count": 15,
   "id": "20f77bc0-55d9-4563-8dfb-fce1ec870d33",
   "metadata": {},
   "outputs": [],
   "source": [
    "mlm.fit(xvals, y)"
   ]
  },
  {
   "cell_type": "code",
   "execution_count": 16,
   "id": "5f4b4252-3900-4a3a-afed-f8210ca81efe",
   "metadata": {},
   "outputs": [
    {
     "data": {
      "text/plain": [
       "5.175316482607568"
      ]
     },
     "execution_count": 16,
     "metadata": {},
     "output_type": "execute_result"
    }
   ],
   "source": [
    "mlm.intercept"
   ]
  },
  {
   "cell_type": "code",
   "execution_count": 17,
   "id": "fd77f998-8c4d-43fb-af5a-98058948e938",
   "metadata": {},
   "outputs": [],
   "source": [
    "mlm.probabilities"
   ]
  },
  {
   "cell_type": "code",
   "execution_count": 18,
   "id": "3749c464-6be5-4585-ab2e-81b6f0d1122c",
   "metadata": {},
   "outputs": [
    {
     "data": {
      "text/plain": [
       "[4.2384487899544125e-07,\n",
       " 2.3448061801774165e-06,\n",
       " 2.367020582552928e-06,\n",
       " 6.571192923791013e-06,\n",
       " 5.4358541876421125e-05,\n",
       " 0.00020173914933983947,\n",
       " 0.002437575065306435,\n",
       " 0.06397080195941987,\n",
       " 0.14189620473359968,\n",
       " 0.41159487946671264,\n",
       " 0.7213831993772614,\n",
       " 0.7291366897897232,\n",
       " 0.9465322242527417,\n",
       " 0.9865972956193445,\n",
       " 0.9962296985932257,\n",
       " 0.9999754229236333,\n",
       " 0.9999758117230415,\n",
       " 0.9999978096835431,\n",
       " 0.9999999622235002,\n",
       " 0.9999999999596727]"
      ]
     },
     "execution_count": 18,
     "metadata": {},
     "output_type": "execute_result"
    }
   ],
   "source": [
    "mlm.predict_proba(xvals)"
   ]
  },
  {
   "cell_type": "markdown",
   "id": "a48e42e0-f7d6-4850-b0d9-3b44c8fff3f4",
   "metadata": {},
   "source": [
    "mlm.predictions"
   ]
  },
  {
   "cell_type": "code",
   "execution_count": 19,
   "id": "2d76b217-4e07-4127-bba8-4888867aae74",
   "metadata": {},
   "outputs": [
    {
     "data": {
      "text/plain": [
       "[4.2384487899544125e-07,\n",
       " 2.3448061801774165e-06,\n",
       " 2.367020582552928e-06,\n",
       " 6.571192923791013e-06,\n",
       " 5.4358541876421125e-05,\n",
       " 0.00020173914933983947,\n",
       " 0.002437575065306435,\n",
       " 0.06397080195941987,\n",
       " 0.14189620473359968,\n",
       " 0.41159487946671264,\n",
       " 0.7213831993772614,\n",
       " 0.7291366897897232,\n",
       " 0.9465322242527417,\n",
       " 0.9865972956193445,\n",
       " 0.9962296985932257,\n",
       " 0.9999754229236333,\n",
       " 0.9999758117230415,\n",
       " 0.9999978096835431,\n",
       " 0.9999999622235002,\n",
       " 0.9999999999596727]"
      ]
     },
     "execution_count": 19,
     "metadata": {},
     "output_type": "execute_result"
    }
   ],
   "source": [
    "mlm.probabilities"
   ]
  },
  {
   "cell_type": "code",
   "execution_count": 21,
   "id": "8cb8b5e9-5d30-4d31-94e7-5f7e3ab0296e",
   "metadata": {},
   "outputs": [
    {
     "data": {
      "text/plain": [
       "[0, 0, 0, 0, 0, 0, 0, 0, 0, 0, 1, 1, 1, 1, 1, 1, 1, 1, 1, 1]"
      ]
     },
     "execution_count": 21,
     "metadata": {},
     "output_type": "execute_result"
    }
   ],
   "source": [
    "mlm.predict(xvals)"
   ]
  },
  {
   "cell_type": "code",
   "execution_count": 22,
   "id": "0ce8eabb-f321-4dbc-8abe-757c0217f57d",
   "metadata": {},
   "outputs": [
    {
     "data": {
      "text/plain": [
       "[0, 0, 0, 0, 0, 0, 0, 0, 1, 1, 1, 1, 1, 1, 1, 1, 1, 1, 1, 1]"
      ]
     },
     "execution_count": 22,
     "metadata": {},
     "output_type": "execute_result"
    }
   ],
   "source": [
    "mlm.predict(xvals, t=0.1)"
   ]
  },
  {
   "cell_type": "code",
   "execution_count": null,
   "id": "b6d83303-9bbc-4d6e-9f3f-1bb92f81e83a",
   "metadata": {},
   "outputs": [],
   "source": []
  }
 ],
 "metadata": {
  "kernelspec": {
   "display_name": "Python 3 (ipykernel)",
   "language": "python",
   "name": "python3"
  },
  "language_info": {
   "codemirror_mode": {
    "name": "ipython",
    "version": 3
   },
   "file_extension": ".py",
   "mimetype": "text/x-python",
   "name": "python",
   "nbconvert_exporter": "python",
   "pygments_lexer": "ipython3",
   "version": "3.12.2"
  }
 },
 "nbformat": 4,
 "nbformat_minor": 5
}
